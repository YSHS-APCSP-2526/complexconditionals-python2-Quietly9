{
  "nbformat": 4,
  "nbformat_minor": 0,
  "metadata": {
    "colab": {
      "provenance": [],
      "include_colab_link": true
    },
    "kernelspec": {
      "name": "python3",
      "display_name": "Python 3"
    },
    "language_info": {
      "name": "python"
    }
  },
  "cells": [
    {
      "cell_type": "markdown",
      "metadata": {
        "id": "view-in-github",
        "colab_type": "text"
      },
      "source": [
        "<a href=\"https://colab.research.google.com/github/YSHS-APCSP-2526/complexconditionals-python2-Quietly9/blob/main/Conditionals_NestedandCompound_Python3.ipynb\" target=\"_parent\"><img src=\"https://colab.research.google.com/assets/colab-badge.svg\" alt=\"Open In Colab\"/></a>"
      ]
    },
    {
      "cell_type": "markdown",
      "source": [
        "#Assignment 3: Complex Conditionals (Nested + Compound)\n",
        "Vocabulary\n",
        "\n",
        "**Nested conditional**: An if inside another if.\n",
        "\n",
        "**Compound condition**: A condition joined with and or or.\n",
        "\n",
        "**Boolean expression**: A statement that is True or False."
      ],
      "metadata": {
        "id": "i33jDObG3GYg"
      }
    },
    {
      "cell_type": "markdown",
      "source": [
        "Walkthrough: Nested and Compound Conditions\n",
        "\n",
        "Here’s a function that checks if someone is eligible to vote:"
      ],
      "metadata": {
        "id": "1DbhWam83XYf"
      }
    },
    {
      "cell_type": "code",
      "execution_count": null,
      "metadata": {
        "id": "HE0LSsXs3DBA"
      },
      "outputs": [],
      "source": [
        "def can_vote(age, citizen):\n",
        "    if age >= 18:\n",
        "        if citizen:\n",
        "            return \"Eligible\"\n",
        "        else:\n",
        "            return \"Not eligible (not a citizen)\"\n",
        "    else:\n",
        "        return \"Not eligible (too young)\"\n"
      ]
    },
    {
      "cell_type": "code",
      "source": [
        "print(can_vote(20, True))   # Eligible\n",
        "print(can_vote(16, True))   # Not eligible (too young)\n",
        "print(can_vote(20, False))  # Not eligible (not a citizen)"
      ],
      "metadata": {
        "colab": {
          "base_uri": "https://localhost:8080/"
        },
        "id": "QnpE5lTh33GU",
        "outputId": "60c1a084-561c-4e3f-82b7-7a86f2046f94"
      },
      "execution_count": null,
      "outputs": [
        {
          "output_type": "stream",
          "name": "stdout",
          "text": [
            "Eligible\n",
            "Not eligible (too young)\n",
            "Not eligible (not a citizen)\n"
          ]
        }
      ]
    },
    {
      "cell_type": "markdown",
      "source": [
        "\n",
        "Here’s the same idea using a compound condition:"
      ],
      "metadata": {
        "id": "r3A4k5aI4EMN"
      }
    },
    {
      "cell_type": "code",
      "source": [
        "def can_vote(age, citizen):\n",
        "    if age >= 18 and citizen:\n",
        "        return \"Eligible\"\n",
        "    else:\n",
        "        return \"Not eligible\"\n"
      ],
      "metadata": {
        "id": "xCyeSz5u4KEq"
      },
      "execution_count": null,
      "outputs": []
    },
    {
      "cell_type": "code",
      "source": [
        "print(can_vote(20, True))   # Eligible\n",
        "print(can_vote(16, True))   # Not eligible (too young)\n",
        "print(can_vote(20, False))  # Not eligible (not a citizen)"
      ],
      "metadata": {
        "colab": {
          "base_uri": "https://localhost:8080/"
        },
        "id": "uUnqUKQG4RkC",
        "outputId": "38cc9647-a620-4970-8ae2-5986617e97cd"
      },
      "execution_count": null,
      "outputs": [
        {
          "output_type": "stream",
          "name": "stdout",
          "text": [
            "Eligible\n",
            "Not eligible\n",
            "Not eligible\n"
          ]
        }
      ]
    },
    {
      "cell_type": "markdown",
      "source": [
        "#Activity 1: Ticket Price\n",
        "\n",
        "Write a function ticket_price(age, is_student) that:\n",
        "\n",
        "Returns 8 if under 12 or if a student.\n",
        "\n",
        "Returns 10 if 12–64 and not a student.\n",
        "\n",
        "Returns 7 if 65 or older.\n",
        "\n",
        "Examples:\n",
        "\n",
        "\n",
        "```\n",
        "\n",
        "print(ticket_price(10, False))  # 8\n",
        "print(ticket_price(20, True))   # 8\n",
        "print(ticket_price(30, False))  # 10\n",
        "print(ticket_price(70, False))  # 7\n",
        "\n",
        "```"
      ],
      "metadata": {
        "id": "rEWODLYA5VL2"
      }
    },
    {
      "cell_type": "code",
      "source": [
        "def ticket_price(age,student):\n",
        "  if age <12 or student:\n",
        "      return 8\n",
        "\n",
        "  elif age >12 and age <=64:\n",
        "    return 10\n",
        "\n",
        "  else:\n",
        "    return 7\n",
        "\n",
        "\n"
      ],
      "metadata": {
        "id": "0O12jhe25oxm"
      },
      "execution_count": null,
      "outputs": []
    },
    {
      "cell_type": "code",
      "source": [
        "\n",
        "\n",
        "\n",
        "ticket_price(70, False)"
      ],
      "metadata": {
        "id": "-bV6sIud49hW",
        "outputId": "ad44354b-1e5e-41cb-d56d-d7311f4d8968",
        "colab": {
          "base_uri": "https://localhost:8080/"
        }
      },
      "execution_count": null,
      "outputs": [
        {
          "output_type": "execute_result",
          "data": {
            "text/plain": [
              "7"
            ]
          },
          "metadata": {},
          "execution_count": 10
        }
      ]
    },
    {
      "cell_type": "markdown",
      "source": [
        "##Activity 2: Triangle Type\n",
        "\n",
        "Write a function triangle_type(a, b, c) that:\n",
        "\n",
        "Returns \"Equilateral\" if all sides are equal.\n",
        "\n",
        "Returns \"Isosceles\" if two sides are equal.\n",
        "\n",
        "Returns \"Scalene\" if all sides are different.\n",
        "\n",
        "\n",
        "\n",
        "```\n",
        "print(triangle_type(3, 3, 3))  # Equilateral\n",
        "print(triangle_type(3, 4, 3))  # Isosceles\n",
        "print(triangle_type(3, 4, 5))  # Scalene\n",
        "```\n",
        "\n"
      ],
      "metadata": {
        "id": "O4mdumeK50aI"
      }
    },
    {
      "cell_type": "code",
      "source": [
        "def triangle_type(a,b,c):\n",
        "  if a == b and a ==c and b==c:\n",
        "    return (\"Equilateral\")\n",
        "  elif (a == b and a!=c) or (a==c and a!=b) :\n",
        "    return(\"Isosceles\")\n",
        "  elif (a!=c)or(a!=b)or(c!=b):\n",
        "    return (\"scalene\")"
      ],
      "metadata": {
        "id": "oNrREwYc59eD"
      },
      "execution_count": null,
      "outputs": []
    },
    {
      "cell_type": "code",
      "source": [
        "print(triangle_type(3, 3, 3))\n",
        "print(triangle_type(3, 4, 3))\n",
        "print(triangle_type(3, 4, 5))"
      ],
      "metadata": {
        "id": "Mg0ltJMg7g-p",
        "outputId": "c8c54755-0ef7-44e8-9aaa-fdfa9de45770",
        "colab": {
          "base_uri": "https://localhost:8080/"
        }
      },
      "execution_count": null,
      "outputs": [
        {
          "output_type": "stream",
          "name": "stdout",
          "text": [
            "Equilateral\n",
            "Isosceles\n",
            "scalene\n"
          ]
        }
      ]
    },
    {
      "cell_type": "markdown",
      "source": [
        "##Activity 3: Login System\n",
        "\n",
        "Write a function login(username, password) that:\n",
        "\n",
        "Returns \"Access granted\" if username is \"admin\" and password is \"secret\".\n",
        "\n",
        "Returns \"Access denied\" otherwise."
      ],
      "metadata": {
        "id": "Q5LIpRVp6HTI"
      }
    },
    {
      "cell_type": "code",
      "source": [
        "def login(username,password):\n",
        "  if (username == 'admin' ) and (password == 'secrect'):\n",
        "    return('Access granted')\n",
        "\n",
        "  else:\n",
        "    return(\"Access denied\")"
      ],
      "metadata": {
        "id": "wGu-TSbb6OCJ"
      },
      "execution_count": 17,
      "outputs": []
    },
    {
      "cell_type": "markdown",
      "source": [
        "## Activity 4: Rock-Paper-Scissors\n",
        "\n",
        "Write a function rps(player1, player2) where each argument is \"rock\", \"paper\", or \"scissors\".\n",
        "Return:\n",
        "\n",
        "\"Tie\" if both are the same.\n",
        "\n",
        "\"Player 1 wins\" if player 1 beats player 2.\n",
        "\n",
        "\"Player 2 wins\" otherwise.\n",
        "\n",
        "**Extra challenge is to get users to input their selection into the terminal**"
      ],
      "metadata": {
        "id": "RjKsbR6t6ZGa"
      }
    },
    {
      "cell_type": "code",
      "source": [
        "def rps(player1, player2):\n",
        "  if player1==\"paper\"and player2 ==\"rock\":\n",
        "    return (\"player1 wins (paper cover rock )\")\n",
        "  elif player1 ==\"rock\" and player2 == \"scissors\" :\n",
        "    return(\"player1 wins (rock smashes sciissors)\")\n",
        "  elif player1 ==\"scissors\" and player2 == \"paper \" :\n",
        "    return(\"player1 wins (scissors cuts paper)\")\n",
        "  elif player1 ==\"scissors\" and player2 == \"scissors \" :\n",
        "    return(\"tie\")\n",
        "  elif player1 ==\"paper\" and player2 == \"paper \" :\n",
        "    return(\"tie\")\n",
        "  elif player1 ==\"rock\" and player2 == \"rock\" :\n",
        "    return(\"tie\")\n",
        "  else:\n",
        "    return (\"player2 wins \")\n",
        "\n",
        ""
      ],
      "metadata": {
        "id": "SDwbpJpF6r5E"
      },
      "execution_count": 30,
      "outputs": []
    },
    {
      "cell_type": "code",
      "source": [
        "print(rps(\"rock\", \"scissors\"))\n",
        "print(rps(\"paper\", \"rock\"))\n",
        "print(rps(\"scissors\", \"paper\"))\n",
        "print(rps(\"rock\", \"rock\"))\n",
        "print(rps(\"paper\", \"paper\"))\n",
        "print(rps(\"scissors\", \"scissors\"))\n",
        "print(rps(\"rock\", \"paper\"))\n",
        "print(rps(\"paper\", \"scissors\"))\n",
        "print(rps(\"scissors\", \"rock\"))"
      ],
      "metadata": {
        "id": "tMk_BDyM68Br",
        "colab": {
          "base_uri": "https://localhost:8080/"
        },
        "outputId": "7251d595-2e46-419a-8149-13118a98393b"
      },
      "execution_count": 31,
      "outputs": [
        {
          "output_type": "stream",
          "name": "stdout",
          "text": [
            "player1 wins (rock smashes sciissors)\n",
            "player1 wins (paper cover rock )\n",
            "player2 wins \n",
            "tie\n",
            "player2 wins \n",
            "player2 wins \n",
            "player2 wins \n",
            "player2 wins \n",
            "player2 wins \n"
          ]
        }
      ]
    },
    {
      "cell_type": "markdown",
      "source": [
        "##The Modulo Operator\n",
        "\n",
        "The modulo operator (%) gives the remainder after division.\n",
        "\n",
        "7 % 3 → 1 (because 7 ÷ 3 = 2 remainder 1)\n",
        "\n",
        "10 % 2 → 0 (because 10 ÷ 2 = 5 remainder 0)\n",
        "\n",
        "14 % 5 → 4 (because 14 ÷ 5 = 2 remainder 4)\n",
        "\n",
        "This is useful in many programs, such as checking whether a number is even or odd."
      ],
      "metadata": {
        "id": "ZtDaq_fl68Yi"
      }
    },
    {
      "cell_type": "code",
      "source": [
        "def isEven(n):\n",
        "    if n % 2 == 0:\n",
        "        return True\n",
        "    else:\n",
        "        return False\n",
        "\n",
        "print(isEven(10))  # True\n",
        "print(isEven(7))   # False\n"
      ],
      "metadata": {
        "id": "QWzkLygZ7BjU"
      },
      "execution_count": null,
      "outputs": []
    },
    {
      "cell_type": "markdown",
      "source": [
        "##Activity 5\n",
        "Write a function isMultipleOf3(n) that returns True if n is a multiple of 3, and False otherwise.\n",
        "Test it with at least three different values."
      ],
      "metadata": {
        "id": "NFZI3NpW7GVI"
      }
    },
    {
      "cell_type": "code",
      "source": [
        "def isMultipleOf3(n):\n",
        "  if n % 3 !=0:\n",
        "    return True\n",
        "  else:\n",
        "    return False"
      ],
      "metadata": {
        "id": "we2iu4Yv7INk"
      },
      "execution_count": 18,
      "outputs": []
    },
    {
      "cell_type": "markdown",
      "source": [
        "##Activity 6: Leap Year\n",
        "\n",
        "Write a function is_leap_year(year) that returns True if a year is a leap year, and False otherwise.\n",
        "A leap year is:\n",
        "*italicized text*\n",
        "Divisible by 4, and\n",
        "\n",
        "Not divisible by 100, unless also divisible by 400.\n",
        "\n",
        "\n",
        "\n",
        "```\n",
        "print(is_leap_year(2000))  # True\n",
        "print(is_leap_year(1900))  # False\n",
        "print(is_leap_year(2024))  # True\n",
        "```\n",
        "\n"
      ],
      "metadata": {
        "id": "G8G53MNb4Wgd"
      }
    },
    {
      "cell_type": "code",
      "source": [
        "def leap_year(year):\n",
        "  if year %4==0 and year %100==1 or year%400==0:\n",
        "    return True\n",
        "  else:\n",
        "    return False"
      ],
      "metadata": {
        "id": "GkiUHmV-4b-n"
      },
      "execution_count": 2,
      "outputs": []
    },
    {
      "cell_type": "markdown",
      "source": [
        "##Randomness\n",
        "\n",
        "Sometimes we want our program to behave differently each time it runs. Python has a random module that helps us do this.\n",
        "\n",
        "First, we import it at the top of our code:\n",
        "\n",
        "\n",
        "\n",
        "```\n",
        "import random\n",
        "```\n",
        "Below is an example function that incorporates randomness called random number\n"
      ],
      "metadata": {
        "id": "1AAtGZgQ_Ny6"
      }
    },
    {
      "cell_type": "code",
      "source": [
        "import random\n",
        "\n",
        "def randomDice():\n",
        "    roll = random.randint(1, 6)   # gives a random number from 1 to 6 (inclusive)\n",
        "    return roll\n",
        "\n",
        "print(randomDice())\n",
        "print(randomDice())\n"
      ],
      "metadata": {
        "colab": {
          "base_uri": "https://localhost:8080/"
        },
        "id": "hO8JIZWx_wSx",
        "outputId": "709462e7-124c-464f-879d-4f2e7f93ab7c"
      },
      "execution_count": null,
      "outputs": [
        {
          "output_type": "stream",
          "name": "stdout",
          "text": [
            "1\n",
            "2\n"
          ]
        }
      ]
    },
    {
      "cell_type": "markdown",
      "source": [
        "##Activity 7: Random Even Number\n",
        "Write a function randomEven() that returns a random even number between 2 and 20.\n",
        "(Hint: You can use random.randint(1, 10) and then multiply the result by 2.)\n",
        "\n",
        "Example:\n",
        "\n",
        "```\n",
        "print(randomEven())  # could be 2, 4, 6, …, 20\n",
        "```\n"
      ],
      "metadata": {
        "id": "bcJ5-epU7H7z"
      }
    },
    {
      "cell_type": "code",
      "source": [
        "import random\n",
        "def randomEven():\n",
        "  a=random.randiant(1,10)*2\n",
        "  return a"
      ],
      "metadata": {
        "id": "EvqoHaVIAGcT"
      },
      "execution_count": 1,
      "outputs": []
    },
    {
      "cell_type": "code",
      "source": [],
      "metadata": {
        "id": "GDX68qBi7LkS"
      },
      "execution_count": null,
      "outputs": []
    },
    {
      "cell_type": "markdown",
      "source": [
        "##Activity 8: Random Password Helper\n",
        "\n",
        "Write a function randomChar() that returns a random lowercase letter between 'a' and 'z'.\n",
        "(Hint: Use random.randint(97, 122) to pick a Unicode number, and then chr() to turn it into a letter.)\n",
        "\n",
        "\n",
        "\n",
        "```\n",
        "print(randomChar())  # could be 'q'\n",
        "print(randomChar())  # could be 'm'\n",
        "\n",
        "```\n",
        "\n"
      ],
      "metadata": {
        "id": "bxQKB6zuAO5W"
      }
    },
    {
      "cell_type": "code",
      "source": [
        "import random\n",
        "def randomChar():\n",
        "  c= random.randint(97,122)\n",
        "  a=chr(c)\n",
        "  return a,c\n",
        "  randomChar()"
      ],
      "metadata": {
        "id": "nLcg4jAkAmMa"
      },
      "execution_count": 29,
      "outputs": []
    },
    {
      "cell_type": "markdown",
      "source": [
        "##Activity 9: Hack it\n",
        "\n",
        "Incorporate the main ideas from this activity and make a function that does something!"
      ],
      "metadata": {
        "id": "VDlrFC4nAt8M"
      }
    },
    {
      "cell_type": "code",
      "source": [
        "import random\n",
        "def carmiles():\n",
        "  a= random.randint(100,500)\n",
        "  if a % 3 ==0:\n",
        "    return (\"thats a ok amount \")\n",
        "  elif a % 2 ==0:\n",
        "    return (\"great amount \")\n",
        "  else:\n",
        "    return (\"stay home \")\n"
      ],
      "metadata": {
        "id": "KA2iYqoVA4Mt"
      },
      "execution_count": 34,
      "outputs": []
    },
    {
      "cell_type": "code",
      "source": [
        "carmiles()"
      ],
      "metadata": {
        "colab": {
          "base_uri": "https://localhost:8080/",
          "height": 141
        },
        "id": "7tO4fTjdBzLM",
        "outputId": "26c51ea6-99bf-48cc-9877-9770f3620c43"
      },
      "execution_count": 5,
      "outputs": [
        {
          "output_type": "error",
          "ename": "NameError",
          "evalue": "name 'carmiles' is not defined",
          "traceback": [
            "\u001b[0;31m---------------------------------------------------------------------------\u001b[0m",
            "\u001b[0;31mNameError\u001b[0m                                 Traceback (most recent call last)",
            "\u001b[0;32m/tmp/ipython-input-2069956077.py\u001b[0m in \u001b[0;36m<cell line: 0>\u001b[0;34m()\u001b[0m\n\u001b[0;32m----> 1\u001b[0;31m \u001b[0mcarmiles\u001b[0m\u001b[0;34m(\u001b[0m\u001b[0;34m)\u001b[0m\u001b[0;34m\u001b[0m\u001b[0;34m\u001b[0m\u001b[0m\n\u001b[0m",
            "\u001b[0;31mNameError\u001b[0m: name 'carmiles' is not defined"
          ]
        }
      ]
    }
  ]
}